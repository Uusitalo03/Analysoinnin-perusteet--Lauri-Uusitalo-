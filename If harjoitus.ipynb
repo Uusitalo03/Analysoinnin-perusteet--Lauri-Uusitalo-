{
 "cells": [
  {
   "cell_type": "code",
   "execution_count": 1,
   "metadata": {},
   "outputs": [
    {
     "name": "stdout",
     "output_type": "stream",
     "text": [
      "number1 and number2 are not equal\n",
      "number1 is not greater than number2\n",
      "number1 is not greater than or equal to number2\n",
      "number1 is NOT equal to number2\n"
     ]
    }
   ],
   "source": [
    "\n",
    "number1 = 5\n",
    "number2 = 10\n",
    "\n",
    "if number1 == number2:\n",
    "    print(\"number1 and number2 are equal\")\n",
    "else:\n",
    "    print(\"number1 and number2 are not equal\")\n",
    "\n",
    "\n",
    "if number1 > number2:\n",
    "    print(\"number1 is greater than number2\")\n",
    "else:\n",
    "    print(\"number1 is not greater than number2\")\n",
    "\n",
    "\n",
    "if number1 >= number2:\n",
    "    print(\"number1 is greater than or equal to number2\")\n",
    "else:\n",
    "    print(\"number1 is not greater than or equal to number2\")\n",
    "\n",
    "\n",
    "if number1 != number2:\n",
    "    print(\"number1 is NOT equal to number2\")\n",
    "else:\n",
    "    print(\"number1 is equal to number2\")\n"
   ]
  },
  {
   "cell_type": "code",
   "execution_count": 2,
   "metadata": {},
   "outputs": [
    {
     "name": "stdout",
     "output_type": "stream",
     "text": [
      "All numbers are not equal\n",
      "Either number1 and number2 are equal OR number2 and number3 are equal\n",
      "number1 is not greater than both number2 and number3\n",
      "number1 is not greater than number2 and number2 is not greater than number3\n",
      "number1 and number2 are equal\n"
     ]
    }
   ],
   "source": [
    "\n",
    "number1 = 7\n",
    "number2 = 7\n",
    "number3 = 10\n",
    "\n",
    "\n",
    "if number1 == number2 == number3:\n",
    "    print(\"All numbers are equal\")\n",
    "else:\n",
    "    print(\"All numbers are not equal\")\n",
    "\n",
    "\n",
    "if number1 == number2 or number2 == number3:\n",
    "    print(\"Either number1 and number2 are equal OR number2 and number3 are equal\")\n",
    "else:\n",
    "    print(\"Neither number1 and number2 nor number2 and number3 are equal\")\n",
    "\n",
    "\n",
    "if number1 > number2 and number1 > number3:\n",
    "    print(\"number1 is greater than both number2 and number3\")\n",
    "else:\n",
    "    print(\"number1 is not greater than both number2 and number3\")\n",
    "\n",
    "\n",
    "if number1 > number2:\n",
    "    print(\"number1 is greater than number2\")\n",
    "elif number2 > number3:\n",
    "    print(\"number2 is greater than number3\")\n",
    "else:\n",
    "    print(\"number1 is not greater than number2 and number2 is not greater than number3\")\n",
    "\n",
    "\n",
    "if number1 == number2:\n",
    "    print(\"number1 and number2 are equal\")\n",
    "elif number1 == number3:\n",
    "    print(\"number1 and number3 are equal\")\n",
    "else:\n",
    "    print(\"number1 is not equal to either number2 or number3\")\n"
   ]
  },
  {
   "cell_type": "code",
   "execution_count": 3,
   "metadata": {},
   "outputs": [
    {
     "name": "stdout",
     "output_type": "stream",
     "text": [
      "name1 and name2 are not equal\n",
      "name1 and name2 are not equal\n",
      "name1 and name3 are equal\n"
     ]
    }
   ],
   "source": [
    "\n",
    "name1 = \"Lauri\"\n",
    "name2 = \"Leo\"\n",
    "name3 = \"Lauri\"\n",
    "\n",
    "\n",
    "if name1 == name2:\n",
    "    print(\"name1 and name2 are equal\")\n",
    "else:\n",
    "    print(\"name1 and name2 are not equal\")\n",
    "\n",
    "\n",
    "if name1 != name2:\n",
    "    print(\"name1 and name2 are not equal\")\n",
    "else:\n",
    "    print(\"name1 and name2 are equal\")\n",
    "\n",
    "\n",
    "if name1 == name2:\n",
    "    print(\"name1 and name2 are equal\")\n",
    "elif name1 == name3:\n",
    "    print(\"name1 and name3 are equal\")\n",
    "else:\n",
    "    print(\"Neither name1 and name2 nor name1 and name3 are equal\")\n"
   ]
  }
 ],
 "metadata": {
  "kernelspec": {
   "display_name": "Python 3",
   "language": "python",
   "name": "python3"
  },
  "language_info": {
   "codemirror_mode": {
    "name": "ipython",
    "version": 3
   },
   "file_extension": ".py",
   "mimetype": "text/x-python",
   "name": "python",
   "nbconvert_exporter": "python",
   "pygments_lexer": "ipython3",
   "version": "3.13.0"
  }
 },
 "nbformat": 4,
 "nbformat_minor": 2
}
