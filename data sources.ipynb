{
 "cells": [
  {
   "cell_type": "code",
   "execution_count": null,
   "metadata": {
    "vscode": {
     "languageId": "plaintext"
    }
   },
   "outputs": [],
   "source": [
    "import pandas as pd\n",
    "\n",
    "\n",
    "portions_data1 = {'order_id': [2, 1, 3], 'item_name': ['Burger', 'Pizza', 'Salad'], 'quantity': [2, 1, 3]}\n",
    "orders_df1 = pd.DataFrame(portions_data1)\n",
    "\n",
    "\n",
    "portions_data2 = {'order_id': [4, 6, 5], 'item_name': ['Soup', 'Burger', 'Wok'], 'quantity': [1, 3, 4]}\n",
    "portions_df2 = pd.DataFrame(portions_data2)\n",
    "\n",
    "\n",
    "combined_df = pd.concat([orders_df1, portions_df2], ignore_index=True)\n",
    "print(combined_df)\n"
   ]
  },
  {
   "cell_type": "code",
   "execution_count": null,
   "metadata": {
    "vscode": {
     "languageId": "plaintext"
    }
   },
   "outputs": [],
   "source": [
    "\n",
    "orders_data = {'order_id': [1, 2, 3], 'customer_name': ['Alice', 'Bob', 'Charlie'], 'total_amount': [25.5, 30.2, 15.75]}\n",
    "orders_df = pd.DataFrame(orders_data)\n",
    "\n",
    "\n",
    "portions_data = {'order_id': [2, 1, 3], 'item_name': ['Burger', 'Pizza', 'Salad'], 'quantity': [2, 1, 3]}\n",
    "portions_df = pd.DataFrame(portions_data)\n",
    "\n",
    "\n",
    "merged_df = pd.merge(orders_df, portions_df, on='order_id')\n",
    "print(merged_df)\n"
   ]
  }
 ],
 "metadata": {
  "language_info": {
   "name": "python"
  }
 },
 "nbformat": 4,
 "nbformat_minor": 2
}
