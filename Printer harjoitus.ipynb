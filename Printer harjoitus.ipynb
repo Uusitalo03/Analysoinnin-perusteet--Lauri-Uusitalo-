{
 "cells": [
  {
   "cell_type": "code",
   "execution_count": 34,
   "metadata": {},
   "outputs": [
    {
     "name": "stdout",
     "output_type": "stream",
     "text": [
      "Printer App\n",
      "Lauri\n",
      "This app is made by Lauri\n",
      "The value of the number1 is 10\n",
      "The value of the number2 is 3\n",
      "3 * 10 =  30\n"
     ]
    }
   ],
   "source": [
    "print(\"Printer App\")\n",
    "creator = \"Lauri\" \n",
    "print(creator)\n",
    "number1 = 10\n",
    "number2 = 3\n",
    "multiplication = number1 * number2\n",
    "# print(number1)\n",
    "print(\"This app is made by \" + creator)\n",
    "print(\"The value of the number1 is\" , number1)\n",
    "print(\"The value of the number2 is\" , number2) \n",
    "print(\"3 * 10 = \" , multiplication)\n",
    "      \n",
    "\n"
   ]
  }
 ],
 "metadata": {
  "kernelspec": {
   "display_name": "Python 3",
   "language": "python",
   "name": "python3"
  },
  "language_info": {
   "codemirror_mode": {
    "name": "ipython",
    "version": 3
   },
   "file_extension": ".py",
   "mimetype": "text/x-python",
   "name": "python",
   "nbconvert_exporter": "python",
   "pygments_lexer": "ipython3",
   "version": "3.13.0"
  }
 },
 "nbformat": 4,
 "nbformat_minor": 2
}
