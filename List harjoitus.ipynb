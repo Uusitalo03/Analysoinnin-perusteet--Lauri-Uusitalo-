{
 "cells": [
  {
   "cell_type": "code",
   "execution_count": null,
   "metadata": {},
   "outputs": [
    {
     "name": "stdout",
     "output_type": "stream",
     "text": [
      "Furniture list: ['Table', 'Chair', 'Shelf', 'Sofa', 'Bed']\n",
      "First two elements: Table Chair\n",
      "Found: Sofa\n"
     ]
    }
   ],
   "source": [
    "\n",
    "furniture_list = [\"Table\", \"Chair\", \"Shelf\", \"Sofa\", \"Bed\"]\n",
    "\n",
    "print(\"Furniture list:\", furniture_list)\n",
    "\n",
    "print(\"First two elements:\", furniture_list[0], furniture_list[1])\n",
    "\n",
    "for item in furniture_list:\n",
    "    if item == \"Sofa\":\n",
    "        print(\"Found:\", item)\n",
    "\n"
   ]
  },
  {
   "cell_type": "code",
   "execution_count": 17,
   "metadata": {},
   "outputs": [
    {
     "name": "stdout",
     "output_type": "stream",
     "text": [
      "Dice Rolls: [1, 1, 1, 2, 3]\n",
      "Sum of Dice Rolls: 8\n",
      "Highest Dice Roll: 3\n"
     ]
    }
   ],
   "source": [
    "\n",
    "import random\n",
    "\n",
    "thrownDiceNumbers = [random.randint(1, 6) for _ in range(5)]\n",
    "\n",
    "print(\"Dice Rolls:\", thrownDiceNumbers)\n",
    "\n",
    "sum_of_values = sum(thrownDiceNumbers)\n",
    "print(\"Sum of Dice Rolls:\", sum_of_values)\n",
    "\n",
    "max_value = max(thrownDiceNumbers)\n",
    "print(\"Highest Dice Roll:\", max_value)\n"
   ]
  }
 ],
 "metadata": {
  "kernelspec": {
   "display_name": "Python 3",
   "language": "python",
   "name": "python3"
  },
  "language_info": {
   "codemirror_mode": {
    "name": "ipython",
    "version": 3
   },
   "file_extension": ".py",
   "mimetype": "text/x-python",
   "name": "python",
   "nbconvert_exporter": "python",
   "pygments_lexer": "ipython3",
   "version": "3.13.0"
  }
 },
 "nbformat": 4,
 "nbformat_minor": 2
}
