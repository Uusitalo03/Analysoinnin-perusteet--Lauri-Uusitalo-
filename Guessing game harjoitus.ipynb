{
 "cells": [
  {
   "cell_type": "code",
   "execution_count": 1,
   "metadata": {},
   "outputs": [
    {
     "name": "stdout",
     "output_type": "stream",
     "text": [
      "Congratulations! You've guessed the correct name.\n",
      "You guessed the correct name in 2 attempts!\n"
     ]
    }
   ],
   "source": [
    "\n",
    "name_to_guess = \"Lauri\"\n",
    "\n",
    "guess_count = 0\n",
    "correct_guess = False\n",
    "\n",
    "while not correct_guess:\n",
    "   \n",
    "    user_guess = input(\"Guess the name: \")\n",
    "    guess_count += 1  \n",
    "\n",
    " \n",
    "    if user_guess == name_to_guess:\n",
    "        print(\"Congratulations! You've guessed the correct name.\")\n",
    "        correct_guess = True  \n",
    "    else:\n",
    "        \n",
    "        quit_choice = input(\"Incorrect guess. Do you want to try again? Type 'yes' to continue or 'quit' to exit: \").strip().lower()\n",
    "        \n",
    "        if quit_choice == \"quit\":\n",
    "            print(\"You've chosen to quit the game. Better luck next time!\")\n",
    "            break  \n",
    "\n",
    "\n",
    "if correct_guess:\n",
    "    print(f\"You guessed the correct name in {guess_count} attempts!\")\n"
   ]
  }
 ],
 "metadata": {
  "kernelspec": {
   "display_name": "Python 3",
   "language": "python",
   "name": "python3"
  },
  "language_info": {
   "codemirror_mode": {
    "name": "ipython",
    "version": 3
   },
   "file_extension": ".py",
   "mimetype": "text/x-python",
   "name": "python",
   "nbconvert_exporter": "python",
   "pygments_lexer": "ipython3",
   "version": "3.13.0"
  }
 },
 "nbformat": 4,
 "nbformat_minor": 2
}
